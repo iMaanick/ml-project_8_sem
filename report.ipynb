{
 "cells": [
  {
   "cell_type": "markdown",
   "id": "d5d5c23b",
   "metadata": {
    "pycharm": {
     "name": "#%% md\n"
    }
   },
   "source": [
    "# Рекомендательная система. Отчёт"
   ]
  },
  {
   "cell_type": "markdown",
   "id": "9e7018f1",
   "metadata": {
    "pycharm": {
     "name": "#%% md\n"
    }
   },
   "source": [
    "## Постановка задачи"
   ]
  },
  {
   "cell_type": "markdown",
   "id": "bb3f9b4f",
   "metadata": {
    "pycharm": {
     "name": "#%% md\n"
    }
   },
   "source": [
    "**На вход:** История пользовательских покупок, информация о пользователе, информация о продуктах\n",
    "\n",
    "**На выход:** Рекомендация того, что человек купит в следующий раз"
   ]
  },
  {
   "cell_type": "markdown",
   "id": "d8d9ac9c",
   "metadata": {
    "pycharm": {
     "name": "#%% md\n"
    }
   },
   "source": [
    "Реализовать несколько методов рекомендательной системы продуктов\n",
    "* baseline - global top\n",
    "* ALS\n",
    "* item-to-item\n",
    "* user-to-user\n",
    "\n"
   ]
  },
  {
   "cell_type": "markdown",
   "id": "974590e0",
   "metadata": {
    "pycharm": {
     "name": "#%% md\n"
    }
   },
   "source": [
    "Метрика - MAP30"
   ]
  },
  {
   "cell_type": "markdown",
   "id": "50da6368",
   "metadata": {
    "pycharm": {
     "name": "#%% md\n"
    }
   },
   "source": [
    "## Данные"
   ]
  },
  {
   "cell_type": "markdown",
   "id": "3a037e87",
   "metadata": {
    "pycharm": {
     "name": "#%% md\n"
    }
   },
   "source": [
    "### Products"
   ]
  },
  {
   "cell_type": "markdown",
   "id": "9fc90ee0",
   "metadata": {
    "pycharm": {
     "name": "#%% md\n"
    }
   },
   "source": [
    "\n",
    "<div>\n",
    "<style scoped>\n",
    "    .dataframe tbody tr th:only-of-type {\n",
    "        vertical-align: middle;\n",
    "    }\n",
    "\n",
    "    .dataframe tbody tr th {\n",
    "        vertical-align: top;\n",
    "    }\n",
    "\n",
    "    .dataframe thead th {\n",
    "        text-align: right;\n",
    "    }\n",
    "</style>\n",
    "<table border=\"1\" class=\"dataframe\">\n",
    "  <thead>\n",
    "    <tr style=\"text-align: right;\">\n",
    "      <th></th>\n",
    "      <th>product_id</th>\n",
    "      <th>level_1</th>\n",
    "      <th>level_2</th>\n",
    "      <th>level_3</th>\n",
    "      <th>level_4</th>\n",
    "      <th>segment_id</th>\n",
    "      <th>brand_id</th>\n",
    "      <th>vendor_id</th>\n",
    "      <th>netto</th>\n",
    "      <th>is_own_trademark</th>\n",
    "      <th>is_alcohol</th>\n",
    "    </tr>\n",
    "  </thead>\n",
    "  <tbody>\n",
    "    <tr>\n",
    "      <th>0</th>\n",
    "      <td>0003020d3c</td>\n",
    "      <td>c3d3a8e8c6</td>\n",
    "      <td>c2a3ea8d5e</td>\n",
    "      <td>b7cda0ec0c</td>\n",
    "      <td>6376f2a852</td>\n",
    "      <td>123.0</td>\n",
    "      <td>394a54a7c1</td>\n",
    "      <td>9eaff48661</td>\n",
    "      <td>0.400</td>\n",
    "      <td>0</td>\n",
    "      <td>0</td>\n",
    "    </tr>\n",
    "    <tr>\n",
    "      <th>1</th>\n",
    "      <td>0003870676</td>\n",
    "      <td>e344ab2e71</td>\n",
    "      <td>52f13dac0c</td>\n",
    "      <td>d3cfe81323</td>\n",
    "      <td>6dc544533f</td>\n",
    "      <td>105.0</td>\n",
    "      <td>acd3dd483f</td>\n",
    "      <td>10486c3cf0</td>\n",
    "      <td>0.680</td>\n",
    "      <td>0</td>\n",
    "      <td>0</td>\n",
    "    </tr>\n",
    "    <tr>\n",
    "      <th>2</th>\n",
    "      <td>0003ceaf69</td>\n",
    "      <td>c3d3a8e8c6</td>\n",
    "      <td>f2333c90fb</td>\n",
    "      <td>419bc5b424</td>\n",
    "      <td>f6148afbc0</td>\n",
    "      <td>271.0</td>\n",
    "      <td>f597581079</td>\n",
    "      <td>764e660dda</td>\n",
    "      <td>0.500</td>\n",
    "      <td>0</td>\n",
    "      <td>0</td>\n",
    "    </tr>\n",
    "    <tr>\n",
    "      <th>3</th>\n",
    "      <td>000701e093</td>\n",
    "      <td>ec62ce61e3</td>\n",
    "      <td>4202626fcb</td>\n",
    "      <td>88a515c084</td>\n",
    "      <td>48cf3d488f</td>\n",
    "      <td>172.0</td>\n",
    "      <td>54a90fe769</td>\n",
    "      <td>03c2d70bad</td>\n",
    "      <td>0.112</td>\n",
    "      <td>0</td>\n",
    "      <td>0</td>\n",
    "    </tr>\n",
    "    <tr>\n",
    "      <th>4</th>\n",
    "      <td>0007149564</td>\n",
    "      <td>e344ab2e71</td>\n",
    "      <td>52f13dac0c</td>\n",
    "      <td>d3cfe81323</td>\n",
    "      <td>6dc544533f</td>\n",
    "      <td>105.0</td>\n",
    "      <td>63417fe1f3</td>\n",
    "      <td>f329130198</td>\n",
    "      <td>0.600</td>\n",
    "      <td>0</td>\n",
    "      <td>0</td>\n",
    "    </tr>\n",
    "  </tbody>\n",
    "</table>\n",
    "</div>\n",
    "\n"
   ]
  },
  {
   "cell_type": "markdown",
   "id": "9a890fdd",
   "metadata": {
    "pycharm": {
     "name": "#%% md\n"
    }
   },
   "source": [
    "\n",
    "```python\n",
    "len(product_df) == 43038\n",
    "```\n",
    "\n",
    "\n",
    "\n",
    "\n",
    "    \n",
    "\n",
    "    "
   ]
  },
  {
   "cell_type": "markdown",
   "id": "f44057da",
   "metadata": {
    "pycharm": {
     "name": "#%% md\n"
    }
   },
   "source": [
    "### Clients"
   ]
  },
  {
   "cell_type": "markdown",
   "id": "e32c59a8",
   "metadata": {
    "pycharm": {
     "name": "#%% md\n"
    }
   },
   "source": [
    "\n",
    "<div>\n",
    "<style scoped>\n",
    "    .dataframe tbody tr th:only-of-type {\n",
    "        vertical-align: middle;\n",
    "    }\n",
    "\n",
    "    .dataframe tbody tr th {\n",
    "        vertical-align: top;\n",
    "    }\n",
    "\n",
    "    .dataframe thead th {\n",
    "        text-align: right;\n",
    "    }\n",
    "</style>\n",
    "<table border=\"1\" class=\"dataframe\">\n",
    "  <thead>\n",
    "    <tr style=\"text-align: right;\">\n",
    "      <th></th>\n",
    "      <th>client_id</th>\n",
    "      <th>first_issue_date</th>\n",
    "      <th>first_redeem_date</th>\n",
    "      <th>age</th>\n",
    "      <th>gender</th>\n",
    "    </tr>\n",
    "  </thead>\n",
    "  <tbody>\n",
    "    <tr>\n",
    "      <th>0</th>\n",
    "      <td>000012768d</td>\n",
    "      <td>2017-08-05 15:40:48</td>\n",
    "      <td>2018-01-04 19:30:07</td>\n",
    "      <td>45</td>\n",
    "      <td>U</td>\n",
    "    </tr>\n",
    "    <tr>\n",
    "      <th>1</th>\n",
    "      <td>000036f903</td>\n",
    "      <td>2017-04-10 13:54:23</td>\n",
    "      <td>2017-04-23 12:37:56</td>\n",
    "      <td>72</td>\n",
    "      <td>F</td>\n",
    "    </tr>\n",
    "    <tr>\n",
    "      <th>2</th>\n",
    "      <td>000048b7a6</td>\n",
    "      <td>2018-12-15 13:33:11</td>\n",
    "      <td>NaN</td>\n",
    "      <td>68</td>\n",
    "      <td>F</td>\n",
    "    </tr>\n",
    "    <tr>\n",
    "      <th>3</th>\n",
    "      <td>000073194a</td>\n",
    "      <td>2017-05-23 12:56:14</td>\n",
    "      <td>2017-11-24 11:18:01</td>\n",
    "      <td>60</td>\n",
    "      <td>F</td>\n",
    "    </tr>\n",
    "    <tr>\n",
    "      <th>4</th>\n",
    "      <td>00007c7133</td>\n",
    "      <td>2017-05-22 16:17:08</td>\n",
    "      <td>2018-12-31 17:17:33</td>\n",
    "      <td>67</td>\n",
    "      <td>U</td>\n",
    "    </tr>\n",
    "  </tbody>\n",
    "</table>\n",
    "</div>\n"
   ]
  },
  {
   "cell_type": "markdown",
   "id": "f8c76356",
   "metadata": {
    "pycharm": {
     "name": "#%% md\n"
    }
   },
   "source": [
    "\n",
    "```python\n",
    "len(client_df) == 400162\n",
    "```\n",
    "\n",
    "\n",
    "\n",
    "\n"
   ]
  },
  {
   "cell_type": "markdown",
   "id": "2bcec9e6",
   "metadata": {
    "pycharm": {
     "name": "#%% md\n"
    }
   },
   "source": [
    "### Purchases"
   ]
  },
  {
   "cell_type": "markdown",
   "id": "69855ebb",
   "metadata": {
    "pycharm": {
     "name": "#%% md\n"
    }
   },
   "source": [
    "\n",
    "\n",
    "<div>\n",
    "<style scoped>\n",
    "    .dataframe tbody tr th:only-of-type {\n",
    "        vertical-align: middle;\n",
    "    }\n",
    "\n",
    "    .dataframe tbody tr th {\n",
    "        vertical-align: top;\n",
    "    }\n",
    "\n",
    "    .dataframe thead th {\n",
    "        text-align: right;\n",
    "    }\n",
    "</style>\n",
    "<table border=\"1\" class=\"dataframe\">\n",
    "  <thead>\n",
    "    <tr style=\"text-align: right;\">\n",
    "      <th></th>\n",
    "      <th>client_id</th>\n",
    "      <th>transaction_id</th>\n",
    "      <th>transaction_datetime</th>\n",
    "      <th>regular_points_received</th>\n",
    "      <th>express_points_received</th>\n",
    "      <th>regular_points_spent</th>\n",
    "      <th>express_points_spent</th>\n",
    "      <th>purchase_sum</th>\n",
    "      <th>store_id</th>\n",
    "      <th>product_id</th>\n",
    "      <th>product_quantity</th>\n",
    "      <th>trn_sum_from_iss</th>\n",
    "      <th>trn_sum_from_red</th>\n",
    "    </tr>\n",
    "  </thead>\n",
    "  <tbody>\n",
    "    <tr>\n",
    "      <th>0</th>\n",
    "      <td>000012768d</td>\n",
    "      <td>7e3e2e3984</td>\n",
    "      <td>2018-12-01 07:12:45</td>\n",
    "      <td>10.0</td>\n",
    "      <td>0.0</td>\n",
    "      <td>0.0</td>\n",
    "      <td>0.0</td>\n",
    "      <td>1007.0</td>\n",
    "      <td>54a4a11a29</td>\n",
    "      <td>9a80204f78</td>\n",
    "      <td>2.0</td>\n",
    "      <td>80.0</td>\n",
    "      <td>NaN</td>\n",
    "    </tr>\n",
    "    <tr>\n",
    "      <th>1</th>\n",
    "      <td>000012768d</td>\n",
    "      <td>7e3e2e3984</td>\n",
    "      <td>2018-12-01 07:12:45</td>\n",
    "      <td>10.0</td>\n",
    "      <td>0.0</td>\n",
    "      <td>0.0</td>\n",
    "      <td>0.0</td>\n",
    "      <td>1007.0</td>\n",
    "      <td>54a4a11a29</td>\n",
    "      <td>da89ebd374</td>\n",
    "      <td>1.0</td>\n",
    "      <td>65.0</td>\n",
    "      <td>NaN</td>\n",
    "    </tr>\n",
    "    <tr>\n",
    "      <th>2</th>\n",
    "      <td>000012768d</td>\n",
    "      <td>7e3e2e3984</td>\n",
    "      <td>2018-12-01 07:12:45</td>\n",
    "      <td>10.0</td>\n",
    "      <td>0.0</td>\n",
    "      <td>0.0</td>\n",
    "      <td>0.0</td>\n",
    "      <td>1007.0</td>\n",
    "      <td>54a4a11a29</td>\n",
    "      <td>0a95e1151d</td>\n",
    "      <td>1.0</td>\n",
    "      <td>24.0</td>\n",
    "      <td>NaN</td>\n",
    "    </tr>\n",
    "    <tr>\n",
    "      <th>3</th>\n",
    "      <td>000012768d</td>\n",
    "      <td>7e3e2e3984</td>\n",
    "      <td>2018-12-01 07:12:45</td>\n",
    "      <td>10.0</td>\n",
    "      <td>0.0</td>\n",
    "      <td>0.0</td>\n",
    "      <td>0.0</td>\n",
    "      <td>1007.0</td>\n",
    "      <td>54a4a11a29</td>\n",
    "      <td>4055b15e4a</td>\n",
    "      <td>2.0</td>\n",
    "      <td>50.0</td>\n",
    "      <td>NaN</td>\n",
    "    </tr>\n",
    "    <tr>\n",
    "      <th>4</th>\n",
    "      <td>000012768d</td>\n",
    "      <td>7e3e2e3984</td>\n",
    "      <td>2018-12-01 07:12:45</td>\n",
    "      <td>10.0</td>\n",
    "      <td>0.0</td>\n",
    "      <td>0.0</td>\n",
    "      <td>0.0</td>\n",
    "      <td>1007.0</td>\n",
    "      <td>54a4a11a29</td>\n",
    "      <td>a685f1916b</td>\n",
    "      <td>1.0</td>\n",
    "      <td>22.0</td>\n",
    "      <td>NaN</td>\n",
    "    </tr>\n",
    "    <tr>\n",
    "      <th>...</th>\n",
    "      <td>...</td>\n",
    "      <td>...</td>\n",
    "      <td>...</td>\n",
    "      <td>...</td>\n",
    "      <td>...</td>\n",
    "      <td>...</td>\n",
    "      <td>...</td>\n",
    "      <td>...</td>\n",
    "      <td>...</td>\n",
    "      <td>...</td>\n",
    "      <td>...</td>\n",
    "      <td>...</td>\n",
    "      <td>...</td>\n",
    "    </tr>\n",
    "    <tr>\n",
    "      <th>95</th>\n",
    "      <td>000036f903</td>\n",
    "      <td>0a3d640bf4</td>\n",
    "      <td>2018-12-21 11:08:58</td>\n",
    "      <td>7.0</td>\n",
    "      <td>0.0</td>\n",
    "      <td>0.0</td>\n",
    "      <td>0.0</td>\n",
    "      <td>700.0</td>\n",
    "      <td>3c6c3b17f2</td>\n",
    "      <td>ac81544ebc</td>\n",
    "      <td>1.0</td>\n",
    "      <td>20.0</td>\n",
    "      <td>NaN</td>\n",
    "    </tr>\n",
    "    <tr>\n",
    "      <th>96</th>\n",
    "      <td>000036f903</td>\n",
    "      <td>5b3e8ddbdd</td>\n",
    "      <td>2018-12-23 09:59:01</td>\n",
    "      <td>1.4</td>\n",
    "      <td>0.0</td>\n",
    "      <td>0.0</td>\n",
    "      <td>0.0</td>\n",
    "      <td>290.0</td>\n",
    "      <td>6381a55c22</td>\n",
    "      <td>746d395a83</td>\n",
    "      <td>1.0</td>\n",
    "      <td>58.0</td>\n",
    "      <td>NaN</td>\n",
    "    </tr>\n",
    "    <tr>\n",
    "      <th>97</th>\n",
    "      <td>000036f903</td>\n",
    "      <td>5b3e8ddbdd</td>\n",
    "      <td>2018-12-23 09:59:01</td>\n",
    "      <td>1.4</td>\n",
    "      <td>0.0</td>\n",
    "      <td>0.0</td>\n",
    "      <td>0.0</td>\n",
    "      <td>290.0</td>\n",
    "      <td>6381a55c22</td>\n",
    "      <td>3e038662c0</td>\n",
    "      <td>1.0</td>\n",
    "      <td>45.0</td>\n",
    "      <td>NaN</td>\n",
    "    </tr>\n",
    "    <tr>\n",
    "      <th>98</th>\n",
    "      <td>000036f903</td>\n",
    "      <td>5b3e8ddbdd</td>\n",
    "      <td>2018-12-23 09:59:01</td>\n",
    "      <td>1.4</td>\n",
    "      <td>0.0</td>\n",
    "      <td>0.0</td>\n",
    "      <td>0.0</td>\n",
    "      <td>290.0</td>\n",
    "      <td>6381a55c22</td>\n",
    "      <td>f5e18af323</td>\n",
    "      <td>1.0</td>\n",
    "      <td>67.0</td>\n",
    "      <td>NaN</td>\n",
    "    </tr>\n",
    "    <tr>\n",
    "      <th>99</th>\n",
    "      <td>000036f903</td>\n",
    "      <td>5b3e8ddbdd</td>\n",
    "      <td>2018-12-23 09:59:01</td>\n",
    "      <td>1.4</td>\n",
    "      <td>0.0</td>\n",
    "      <td>0.0</td>\n",
    "      <td>0.0</td>\n",
    "      <td>290.0</td>\n",
    "      <td>6381a55c22</td>\n",
    "      <td>0f0c1288d3</td>\n",
    "      <td>1.0</td>\n",
    "      <td>120.0</td>\n",
    "      <td>NaN</td>\n",
    "    </tr>\n",
    "  </tbody>\n",
    "</table>\n",
    "<p>100 rows × 13 columns</p>\n",
    "</div>"
   ]
  },
  {
   "cell_type": "markdown",
   "id": "1b0ed7be",
   "metadata": {
    "pycharm": {
     "name": "#%% md\n"
    }
   },
   "source": [
    "## Обработка данных "
   ]
  },
  {
   "cell_type": "markdown",
   "id": "c1872ee5",
   "metadata": {
    "pycharm": {
     "name": "#%% md\n"
    }
   },
   "source": [
    "### Json"
   ]
  },
  {
   "cell_type": "markdown",
   "id": "da3365be",
   "metadata": {
    "pycharm": {
     "name": "#%% md\n"
    }
   },
   "source": [
    "Важно, что в файле с покупками данные об одном пользовате идут подряд. Используя этот факт, соберём всю информацию о покупках конкретного человека в один json вида:\n",
    "\n",
    "    dict_keys(['age', 'gender', 'client_id', 'transaction_history', 'target'])"
   ]
  },
  {
   "cell_type": "markdown",
   "id": "6e2bc06d",
   "metadata": {
    "pycharm": {
     "name": "#%% md\n"
    }
   },
   "source": [
    "    {\n",
    "      \"age\": 60,\n",
    "      \"gender\": \"F\",\n",
    "      \"client_id\": \"000073194a\",\n",
    "      \"transaction_history\": [\n",
    "        {\n",
    "          \"tid\": \"6e3215aca5\",\n",
    "          \"datetime\": \"2018-11-25 10:56:20\",\n",
    "          \"products\": [\n",
    "            {\n",
    "              \"product_id\": \"212f305c8b\",\n",
    "              \"quantity\": 2.0,\n",
    "              \"s\": 447.0,\n",
    "              \"r\": \"0\"\n",
    "            },\n",
    "            {\n",
    "              \"product_id\": \"2224fd78f2\",\n",
    "              \"quantity\": 2.0,\n",
    "              \"s\": 33.0,\n",
    "              \"r\": \"0\"\n",
    "            }\n",
    "          ],\n",
    "          \"rpr\": 0.3,\n",
    "          \"epr\": 0.0,\n",
    "          \"rps\": 0.0,\n",
    "          \"eps\": 0.0,\n",
    "          \"sum\": 479.0,\n",
    "          \"store_id\": \"9e8fcd116d\"\n",
    "        },\n",
    "        {\n",
    "          \"tid\": \"1d82d2ee6b\",\n",
    "          \"datetime\": \"2018-12-08 10:07:33\",\n",
    "          \"products\": [\n",
    "            {\n",
    "              \"product_id\": \"d6377ed635\",\n",
    "              \"quantity\": 1.0,\n",
    "              \"s\": 29.0,\n",
    "              \"r\": \"0\"\n",
    "            },\n",
    "            {\n",
    "              \"product_id\": \"4009f09b04\",\n",
    "              \"quantity\": 1.0,\n",
    "              \"s\": 5.0,\n",
    "              \"r\": \"0\"\n",
    "            },\n",
    "            {\n",
    "              \"product_id\": \"113e3ace79\",\n",
    "              \"quantity\": 7.0,\n",
    "              \"s\": 180.0,\n",
    "              \"r\": \"0\"\n",
    "            }\n",
    "          ],\n",
    "          \"rpr\": 1.0,\n",
    "          \"epr\": 0.0,\n",
    "          \"rps\": 0.0,\n",
    "          \"eps\": 0.0,\n",
    "          \"sum\": 214.1,\n",
    "          \"store_id\": \"9e8fcd116d\"\n",
    "        },\n",
    "      ],\n",
    "      \"target\": [\n",
    "        {\n",
    "          \"tid\": \"e93494ad1f\",\n",
    "          \"datetime\": \"2019-03-16 09:41:21\",\n",
    "          \"product_ids\": [\n",
    "            \"6fbcfd9373\",\n",
    "            \"0a4cfd2c86\",\n",
    "            \"5a541d7e46\"\n",
    "          ],\n",
    "          \"store_id\": \"9e8fcd116d\"\n",
    "        }\n",
    "      ]\n",
    "    }\n",
    "    "
   ]
  },
  {
   "cell_type": "markdown",
   "id": "6200c6d0",
   "metadata": {
    "pycharm": {
     "name": "#%% md\n"
    }
   },
   "source": [
    "где сначала указана информация о самом пользователе, потом история его покупок со служебной информацией, а затем **целевая переменная**: то, что пользователь купит в следующий раз"
   ]
  },
  {
   "cell_type": "markdown",
   "id": "db891e04",
   "metadata": {
    "pycharm": {
     "name": "#%% md\n"
    }
   },
   "source": [
    "Кроме того, данные пошардированы - исходный файл (5Gb Размером) разбит на несколько (7) json, чтобы данные можно было использовать \"кусочками\""
   ]
  },
  {
   "cell_type": "markdown",
   "id": "6ad101dc",
   "metadata": {
    "pycharm": {
     "name": "#%% md\n"
    }
   },
   "source": [
    "### Train valid data"
   ]
  },
  {
   "attachments": {
    "image.png": {
     "image/png": "[encoded data removed]"
    }
   },
   "cell_type": "markdown",
   "id": "54e244bb",
   "metadata": {
    "pycharm": {
     "name": "#%% md\n"
    }
   },
   "source": [
    "![image.png](attachment:image.png)"
   ]
  },
  {
   "cell_type": "markdown",
   "id": "0ee4b079",
   "metadata": {
    "pycharm": {
     "name": "#%% md\n"
    }
   },
   "source": [
    "## Метрика\n",
    "\n",
    "<code>[Теория](https://habr.com/ru/companies/econtenta/articles/303458/#:~:text=%D0%A0%D0%B0%D1%81%D1%81%D0%BC%D0%BE%D1%82%D1%80%D0%B8%D0%BC%20%D0%BE%D1%81%D0%BD%D0%BE%D0%B2%D0%BD%D1%8B%D0%B5%20%D0%BC%D0%B5%D1%82%D1%80%D0%B8%D0%BA%D0%B8.-,Mean,-average%20precision)\n",
    "</code>"
   ]
  },
  {
   "cell_type": "markdown",
   "id": "882c1369",
   "metadata": {
    "pycharm": {
     "name": "#%% md\n"
    }
   },
   "source": [
    "nMap - нормальзиванный Mean average precision на 30 объектах"
   ]
  },
  {
   "attachments": {
    "image-2.png": {
     "image/png": "[encoded data removed]"
    },
    "image-3.png": {
     "image/png": "[encoded data removed]"
    },
    "image-4.png": {
     "image/png": "[encoded data removed]"
    }
   },
   "cell_type": "markdown",
   "id": "d85a9f0b",
   "metadata": {
    "pycharm": {
     "name": "#%% md\n"
    }
   },
   "source": [
    "### Precision at K\n",
    "\n",
    "Precision at K (p@K) — точность на K элементах — базовая метрика качества ранжирования для одного объекта. Допустим, наш алгоритм ранжирования выдал оценки релевантности для каждого элемента ${r(e)}_{e\\in K}$. Отобрав среди них первые $K < M$ элементов с наибольшим ${r(e)}$ можно посчитать долю релевантных. Именно это и делает precision at K:\n",
    "\n",
    "![image-2.png](attachment:image-2.png)\n",
    "\n",
    "\n",
    "Замечание: под $\\pi ^{-1}(k)$ понимается элемент $e \\in E$, который в результате перестановки $\\pi$ оказался на $k$-ой позиции. Так, $\\pi ^{-1}(1)$ — элемент с наибольшим ${r(e)}$, $\\pi ^{-1}(2)$ — элемент со вторым по величине ${r(e)}$ и так далее.\n",
    "\n",
    "\n",
    "### Average precision at K\n",
    "\n",
    "Precision at K — метрика простая для понимания и реализации, но имеет важный недостаток — она не учитывает порядок элементов в «топе». Так, если из десяти элементов мы угадали только один, то не важно на каком месте он был: на первом, или на последнем, — в любом случае $p@10 = 0.1$. При этом очевидно, что первый вариант гораздо лучше.\n",
    "\n",
    "Этот недостаток нивелирует метрика ранжирования average precision at K (ap@K), которая равна сумме p@k по индексам k от 1 до K только для релевантных элементов, деленому на K:\n",
    "\n",
    "![image-3.png](attachment:image-3.png)\n",
    "\n",
    "Так, \n",
    "\n",
    "* если из трех элементов мы релевантным оказался только находящийся на последнем месте, то $ap@3 = \\frac{1}{3}(0 + 0 + \\frac{1}{3}) \\approx 0.11$, \n",
    "\n",
    "* если угадали лишь тот, что был на первом месте, то $ap@3 = \\frac{1}{3}(\\frac{1}{3} + 0 + 0) \\approx 0.33$, \n",
    "\n",
    "* а если угаданы были все, то $ap@3 = \\frac{1}{3}(\\frac{1}{1} + \\frac{2}{2} + \\frac{3}{3}) \\approx 1$.\n",
    "\n",
    "\n",
    "### Mean average precision at K\n",
    "\n",
    "Mean average precision at K (map@K) — одна из наиболее часто используемых метрик качества ранжирования. В p@K и ap@K качество ранжирования оценивается для отдельно взятого объекта (пользователя, поискового запроса). На практике объектов множество: мы имеем дело с сотнями тысяч пользователей, миллионами поисковых запросов и т.д. Идея map@K заключается в том, чтобы посчитать ap@K для каждого объекта и усреднить:\n",
    "\n",
    "![image-4.png](attachment:image-4.png)"
   ]
  },
  {
   "cell_type": "markdown",
   "id": "327e4d2c",
   "metadata": {
    "pycharm": {
     "name": "#%% md\n"
    }
   },
   "source": [
    "## Решение"
   ]
  },
  {
   "cell_type": "markdown",
   "id": "fe1eeb8f",
   "metadata": {
    "pycharm": {
     "name": "#%% md\n"
    }
   },
   "source": [
    "### Global top"
   ]
  },
  {
   "cell_type": "markdown",
   "id": "f93a6cb6",
   "metadata": {
    "pycharm": {
     "name": "#%% md\n"
    }
   },
   "source": [
    "Идея проста - взять топ 30 самых покупаемых товаров и предлагать их каждому пользователю независимо от его истории"
   ]
  },
  {
   "cell_type": "markdown",
   "id": "4af3684d",
   "metadata": {
    "pycharm": {
     "name": "#%% md\n"
    }
   },
   "source": [
    "количество топ-1 товара: \n",
    "\n",
    "    cnt['4009f09b04'] == 766595\n",
    "\n",
    "топ-2: \n",
    "\n",
    "    cnt['15ccaa8685'] == 266330"
   ]
  },
  {
   "cell_type": "markdown",
   "id": "0899116b",
   "metadata": {
    "pycharm": {
     "name": "#%% md\n"
    }
   },
   "source": [
    "Вычисляем метрику:"
   ]
  },
  {
   "cell_type": "code",
   "execution_count": null,
   "id": "64df6f06",
   "metadata": {
    "pycharm": {
     "name": "#%%\n"
    }
   },
   "outputs": [],
   "source": [
    "scores = []\n",
    "for js in tqdm((json.loads(s) for s in open(get_shard_path(7)))):\n",
    "    recommended_items = top_products[:30]\n",
    "    gt_items = js[\"target\"][0][\"product_ids\"]\n",
    "    ap = normalized_average_precision(gt_items, recommended_items)\n",
    "    scores.append(ap)\n",
    "np.mean(scores)"
   ]
  },
  {
   "cell_type": "markdown",
   "id": "704e0ade",
   "metadata": {
    "pycharm": {
     "name": "#%% md\n"
    }
   },
   "source": [
    "Итог\n",
    "\n",
    "    результат по метрике - 0.06490413817015536\n",
    "\n",
    "    скорость - 4738.11it/s"
   ]
  },
  {
   "cell_type": "markdown",
   "id": "05651644",
   "metadata": {
    "pycharm": {
     "name": "#%% md\n"
    }
   },
   "source": [
    "### Отступление"
   ]
  },
  {
   "cell_type": "code",
   "execution_count": null,
   "id": "5a70b568",
   "metadata": {
    "pycharm": {
     "name": "#%%\n"
    }
   },
   "outputs": [],
   "source": [
    "def make_coo_row(transaction_history, product_encoder: ProductEncoder):\n",
    "    idx = []\n",
    "    values = []\n",
    "\n",
    "    items = []\n",
    "    for trans in transaction_history:\n",
    "        items.extend([i[\"product_id\"] for i in trans[\"products\"]])\n",
    "    n_items = len(items)\n",
    "\n",
    "    for pid in items:\n",
    "        idx.append(product_encoder.toIdx(pid))\n",
    "        values.append(1.0 / n_items)\n",
    "\n",
    "    return sp.coo_matrix(\n",
    "        (np.array(values).astype(np.float64), ([0] * len(idx), idx)), shape=(1, product_encoder.num_products),\n",
    "    )"
   ]
  },
  {
   "cell_type": "markdown",
   "id": "f3ab5146",
   "metadata": {
    "pycharm": {
     "name": "#%% md\n"
    }
   },
   "source": [
    "Функция, которая по истории покупок пользователя и product_encoder (создан для формирования id продуктов) собирает строку матрицы.\n",
    "\n",
    "Строка матрицы содержит отнормированную сумму всех продуктов пользователя\n",
    "\n",
    "        values.append(1.0 / n_items)\n",
    "\n",
    "тут мы стремимся получить некоторое распредление"
   ]
  },
  {
   "cell_type": "markdown",
   "id": "777f1981",
   "metadata": {
    "pycharm": {
     "name": "#%% md\n"
    }
   },
   "source": [
    "1. `np.array(values).astype(np.float32)`: Значения элементов матрицы в формате массива NumPy, приведенные к типу данных np.float32.\n",
    "2. `([0] * len(idx), idx)`: Кортеж, содержащий два массива. Первый массив состоит из нулей, повторенных len(idx) раз. Второй массив содержит индексы ненулевых элементов в матрице.\n",
    "3. `shape=(1, product_encoder.num_products)`: Форма (размерность) матрицы, указанная в виде кортежа, где первый элемент соответствует количеству строк матрицы (в данном случае 1), а второй элемент - количеству столбцов матрицы (product_encoder.num_products)."
   ]
  },
  {
   "cell_type": "markdown",
   "id": "6c891fd6",
   "metadata": {
    "pycharm": {
     "name": "#%% md\n"
    }
   },
   "source": [
    "### ALS"
   ]
  },
  {
   "cell_type": "markdown",
   "id": "d400205f",
   "metadata": {
    "pycharm": {
     "name": "#%% md\n"
    }
   },
   "source": [
    "<code>[Теория](https://habr.com/ru/companies/flexitech_ai/articles/760620/#:~:text=%D1%81%C2%A0%D0%BD%D0%B5%D0%BF%D0%BE%D0%BB%D0%BD%D1%8B%D0%BC%D0%B8%20%D0%B4%D0%B0%D0%BD%D0%BD%D1%8B%D0%BC%D0%B8.-,%D0%9C%D0%BE%D0%B4%D0%B5%D0%BB%D0%B8%D1%80%D0%BE%D0%B2%D0%B0%D0%BD%D0%B8%D0%B5,-%D0%BF%D0%BE%D0%B2%D0%B5%D0%B4%D0%B5%D0%BD%D0%B8%D1%8F%20%D0%BF%D0%BE%D0%BB%D1%8C%D0%B7%D0%BE%D0%B2%D0%B0%D1%82%D0%B5%D0%BB%D0%B5%D0%B9%20%D1%81)\n",
    "</code>"
   ]
  },
  {
   "cell_type": "markdown",
   "id": "14172f03",
   "metadata": {
    "pycharm": {
     "name": "#%% md\n"
    }
   },
   "source": [
    "Собираем X_sparse матрицу: \n",
    "\n",
    "    <183938x43038 sparse matrix of type '<class 'numpy.float32'>' \n",
    "        with 12918657 stored elements in Compressed Sparse Row format>\n",
    "    "
   ]
  },
  {
   "cell_type": "markdown",
   "id": "578810c1",
   "metadata": {
    "pycharm": {
     "name": "#%% md\n"
    }
   },
   "source": [
    "В чём её перелесть? Она могла бы быть размером:"
   ]
  },
  {
   "cell_type": "code",
   "execution_count": 5,
   "id": "945dfca4",
   "metadata": {
    "pycharm": {
     "name": "#%%\n"
    }
   },
   "outputs": [
    {
     "data": {
      "text/plain": [
       "7916323644"
      ]
     },
     "execution_count": 5,
     "metadata": {},
     "output_type": "execute_result"
    }
   ],
   "source": [
    "183938 * 43038"
   ]
  },
  {
   "cell_type": "markdown",
   "id": "0aced142",
   "metadata": {
    "pycharm": {
     "name": "#%% md\n"
    }
   },
   "source": [
    "но по факту в ней содержится 12918657 элементов"
   ]
  },
  {
   "cell_type": "code",
   "execution_count": 6,
   "id": "a6aca55e",
   "metadata": {
    "pycharm": {
     "name": "#%%\n"
    }
   },
   "outputs": [
    {
     "data": {
      "text/plain": [
       "0.0016319010668280859"
      ]
     },
     "execution_count": 6,
     "metadata": {},
     "output_type": "execute_result"
    }
   ],
   "source": [
    "12918657 / 7916323644"
   ]
  },
  {
   "cell_type": "markdown",
   "id": "ba387916",
   "metadata": {
    "pycharm": {
     "name": "#%% md\n"
    }
   },
   "source": [
    "Итого, храним в 1000 раз меньше - экономия памяти колоссальная, учитывая размер данных"
   ]
  },
  {
   "cell_type": "markdown",
   "id": "687b4d0f",
   "metadata": {
    "collapsed": false,
    "jupyter": {
     "outputs_hidden": false
    },
    "pycharm": {
     "name": "#%% md\n"
    }
   },
   "source": [
    "Обучаем модель, получаем результат вида \n",
    "\n",
    "    (array([12454,  1713, 36967, 40445, 12790, 39321,  4740,  1337, 37296,\n",
    "            41355, 26079, 34153, 28825, 39862, 39153, 38802, 41915,  8809,\n",
    "            42416, 36370, 18919, 34902, 23687, 41070,  2157, 15237,  6458,\n",
    "            12751, 33527, 13455]),\n",
    "     array([1.0011280e+00, 3.7531853e-03, 2.8436063e-03, 2.8225370e-03,\n",
    "            2.5503049e-03, 2.1508043e-03, 1.7332104e-03, 1.6045189e-03,\n",
    "            1.4556982e-03, 1.3464480e-03, 1.3436036e-03, 1.2987014e-03,\n",
    "            1.0319095e-03, 1.0194948e-03, 9.6356845e-04, 7.9073873e-04,\n",
    "            7.7742408e-04, 7.3313998e-04, 7.3204620e-04, 6.5696472e-04,\n",
    "            6.0403644e-04, 5.3423445e-04, 5.2990438e-04, 5.2476791e-04,\n",
    "            5.1745342e-04, 5.1144685e-04, 4.8850640e-04, 4.5886659e-04,\n",
    "            4.1881547e-04, 4.1571568e-04], dtype=float32))\n",
    "            \n",
    "где первый массив - id продукта (через product_encoder), а во втором содержится \"степень близовсти\"\n",
    "                \n",
    "Результат по метрике (очень удобно, что каждый новый вектор не требует пересчёта всего разложения) - \n",
    "\n",
    "    0.0563\n",
    "    \n",
    "скорость - 1104.43it/s"
   ]
  },
  {
   "cell_type": "markdown",
   "id": "af8f1dce",
   "metadata": {
    "collapsed": false,
    "jupyter": {
     "outputs_hidden": false
    },
    "pycharm": {
     "name": "#%% md\n"
    }
   },
   "source": [
    "Результат получился даже хуже, чем в global_top\n",
    "Всё дело в функции make_coo_row и нормализации. Если пользователь купил очень много продуктов, то эффект от каждого продукта становится меньше. Получается, если очень большая история покупок, то значения очень малы. Попробуем убрать деление на n_items:"
   ]
  },
  {
   "cell_type": "code",
   "execution_count": null,
   "id": "282069cf",
   "metadata": {
    "collapsed": false,
    "jupyter": {
     "outputs_hidden": false
    },
    "pycharm": {
     "name": "#%%\n"
    }
   },
   "outputs": [],
   "source": [
    "def make_coo_row(transaction_history, product_encoder: ProductEncoder):\n",
    "    idx = []\n",
    "    values = []\n",
    "\n",
    "    items = []\n",
    "    for trans in transaction_history:\n",
    "        items.extend([i[\"product_id\"] for i in trans[\"products\"]])\n",
    "    n_items = len(items)\n",
    "\n",
    "    for pid in items:\n",
    "        idx.append(product_encoder.toIdx(pid))\n",
    "        values.append(1.0)\n",
    "\n",
    "    return sp.coo_matrix(\n",
    "        (np.array(values).astype(np.float64), ([0] * len(idx), idx)), shape=(1, product_encoder.num_products),\n",
    "    )"
   ]
  },
  {
   "cell_type": "markdown",
   "id": "412bc6d4",
   "metadata": {
    "collapsed": false,
    "jupyter": {
     "outputs_hidden": false
    },
    "pycharm": {
     "name": "#%% md\n"
    }
   },
   "source": [
    "Результат по метрике - 0.0714\n",
    "\n",
    "Скорость - 1173.31it/s"
   ]
  },
  {
   "cell_type": "markdown",
   "id": "e8ff3725",
   "metadata": {
    "collapsed": false,
    "jupyter": {
     "outputs_hidden": false
    },
    "pycharm": {
     "name": "#%% md\n"
    }
   },
   "source": [
    "#### Проверим зависимость от factors"
   ]
  },
  {
   "attachments": {
    "817db9f2-f60f-4836-96c1-4d7b37fc9d1f.png": {
     "image/png": "[encoded data removed]"
    }
   },
   "cell_type": "markdown",
   "id": "c2ec3584",
   "metadata": {
    "collapsed": false,
    "jupyter": {
     "outputs_hidden": false
    },
    "pycharm": {
     "name": "#%% md\n"
    }
   },
   "source": [
    "![image.png](attachment:817db9f2-f60f-4836-96c1-4d7b37fc9d1f.png)\n",
    "переобучение..."
   ]
  },
  {
   "cell_type": "markdown",
   "id": "3803dd03",
   "metadata": {
    "collapsed": false,
    "jupyter": {
     "outputs_hidden": false
    },
    "pycharm": {
     "name": "#%% md\n"
    }
   },
   "source": [
    "### Item to item"
   ]
  },
  {
   "cell_type": "markdown",
   "id": "4714a22b",
   "metadata": {
    "collapsed": false,
    "jupyter": {
     "outputs_hidden": false
    },
    "pycharm": {
     "name": "#%% md\n"
    }
   },
   "source": [
    "Зная, кто покупает товары, хотим посчитать \"похожесть\" между товарами. То есть, каждый товар мы сравним с другими и поймём, насколько часто их покупают вместе, как часто они пересекаются в чеках. Для каждого товара составим \"топ товаров, которые на него похожи\"."
   ]
  },
  {
   "cell_type": "markdown",
   "id": "b429c97a",
   "metadata": {
    "collapsed": false,
    "jupyter": {
     "outputs_hidden": false
    },
    "pycharm": {
     "name": "#%% md\n"
    }
   },
   "source": [
    "\"Похожесть\" замеряем косинусным расстоянием\n",
    "\n",
    "Ещё один гиперпараметр - количество товаров, которые мы храним для каждой единицы (пока определим K=200)"
   ]
  },
  {
   "cell_type": "markdown",
   "id": "985cd1be",
   "metadata": {
    "collapsed": false,
    "jupyter": {
     "outputs_hidden": false
    },
    "pycharm": {
     "name": "#%% md\n"
    }
   },
   "source": [
    "Используя ненормированную функцию make_coo_row, получим:\n",
    "\n",
    "    Результат по метрике - 0.0929\n",
    "\n",
    "    Скорость - 2273.06it/s"
   ]
  },
  {
   "cell_type": "markdown",
   "id": "b04e7345",
   "metadata": {
    "collapsed": false,
    "jupyter": {
     "outputs_hidden": false
    },
    "pycharm": {
     "name": "#%% md\n"
    }
   },
   "source": [
    "Добавим нормировку:\n",
    "\n",
    "    Результат по метрике - 0.1151\n",
    "\n",
    "    Скорость -  2154.10it/s"
   ]
  },
  {
   "cell_type": "markdown",
   "id": "07bc2596",
   "metadata": {
    "collapsed": false,
    "jupyter": {
     "outputs_hidden": false
    },
    "pycharm": {
     "name": "#%% md\n"
    }
   },
   "source": [
    "Вывод - в случае косинусного расстояния такая нормировка только улучшает ситуацию"
   ]
  },
  {
   "cell_type": "markdown",
   "id": "7a050714",
   "metadata": {
    "collapsed": false,
    "jupyter": {
     "outputs_hidden": false
    },
    "pycharm": {
     "name": "#%% md\n"
    }
   },
   "source": [
    "#### Проверим зависимость от K"
   ]
  },
  {
   "attachments": {
    "57fa67c1-1f08-4c9f-b645-7f5db302d3de.png": {
     "image/png": "[encoded data removed]"
    }
   },
   "cell_type": "markdown",
   "id": "4509d927",
   "metadata": {
    "collapsed": false,
    "jupyter": {
     "outputs_hidden": false
    },
    "pycharm": {
     "name": "#%% md\n"
    }
   },
   "source": [
    "![image.png](attachment:57fa67c1-1f08-4c9f-b645-7f5db302d3de.png)\n",
    "Такова уж особенность текущих данных - но такой вывод не слишком удачен для магазина (пользователь не будет покупать новые товары). Нужно искать баланс."
   ]
  },
  {
   "cell_type": "markdown",
   "id": "6b4e87fc",
   "metadata": {
    "pycharm": {
     "name": "#%% md\n"
    }
   },
   "source": [
    "### User to user"
   ]
  },
  {
   "cell_type": "markdown",
   "id": "db744a0a",
   "metadata": {
    "pycharm": {
     "name": "#%% md\n"
    }
   },
   "source": [
    "Будем так же мерять \"похожесть\", но на этот раз не по столбцам, а по строкам. Для текущего пользователя ищем похожим на него и предлагаем то, что покупали они"
   ]
  },
  {
   "cell_type": "markdown",
   "id": "8d39a710",
   "metadata": {
    "pycharm": {
     "name": "#%% md\n"
    }
   },
   "source": [
    "В этот раз использую SVD разложение матрицы - <code>[Крутое математическое объяснение](https://youtu.be/7YZZ-CJRWBI?t=518)\n",
    "</code>"
   ]
  },
  {
   "cell_type": "markdown",
   "id": "b3022711",
   "metadata": {
    "pycharm": {
     "name": "#%% md\n"
    }
   },
   "source": [
    "Сжимаем наше пространство в 40к компонент до 128:\n",
    "\n",
    "    svd = TruncatedSVD(n_components=128)"
   ]
  },
  {
   "cell_type": "markdown",
   "id": "314fa3c5",
   "metadata": {
    "pycharm": {
     "name": "#%% md\n"
    }
   },
   "source": [
    "Берём историю пользователя, составляем из неё привычную строку, сжимаем до 128 компонент и смотрим KNN на 256 соседей.\n",
    "\n",
    "\n",
    "У похожих пользователей суммируем их покупки и считаем, что \"чем больше они покупали, тем выгоднее товар\". В качестве рекомендации возвращаем топ 30 таких товаров"
   ]
  },
  {
   "cell_type": "code",
   "execution_count": null,
   "id": "bcac27ff",
   "metadata": {
    "pycharm": {
     "name": "#%%\n"
    }
   },
   "outputs": [],
   "source": [
    "m_ap = []\n",
    "for js in tqdm(valid_data):\n",
    "    row_sparse = make_coo_row(js[\"transaction_history\"], product_encoder)\n",
    "    row_dense = svd.transform(row_sparse)\n",
    "    knn_result = knn.kneighbors(row_dense, n_neighbors=num_neighbours)\n",
    "    neighbors = knn_result[1]\n",
    "    scores = np.asarray(X_stored[neighbors[0]].sum(axis=0)[0]).flatten()\n",
    "    top_indices = np.argsort(-scores)\n",
    "    recommended_items = product_encoder.toPid(top_indices[:30])\n",
    "    gt_items = js[\"target\"][0][\"product_ids\"]\n",
    "    m_ap.append(normalized_average_precision(gt_items, recommended_items, k=30))\n",
    "print(np.mean(m_ap))"
   ]
  },
  {
   "cell_type": "markdown",
   "id": "c2c447eb",
   "metadata": {
    "pycharm": {
     "name": "#%% md\n"
    }
   },
   "source": [
    "Итог:\n",
    "\n",
    "    Результат по метрике - 0.0936\n",
    "\n",
    "    Скорость -  8.79it/s\n",
    "    \n",
    "результат неплох, но скорость неприлично маленькая"
   ]
  },
  {
   "cell_type": "markdown",
   "id": "5c47edb8",
   "metadata": {
    "pycharm": {
     "name": "#%% md\n"
    }
   },
   "source": [
    "Чтобы успорить этот метод, используем фейсбуковский Faiss"
   ]
  },
  {
   "cell_type": "markdown",
   "id": "4da3bd71",
   "metadata": {
    "pycharm": {
     "name": "#%% md\n"
    }
   },
   "source": [
    "### FAISS"
   ]
  },
  {
   "cell_type": "markdown",
   "id": "a734368b",
   "metadata": {
    "pycharm": {
     "name": "#%% md\n"
    }
   },
   "source": [
    "библиотека, которая позволяет быстро искать соседей. \n",
    "\n",
    "    index = faiss.index_factory(128, \"IVF256,PQ32\", faiss.METRIC_INNER_PRODUCT)\n",
    "\n",
    "тут\n",
    "* 128 - размерность вектора, который будет использоваться\n",
    "* `faiss.METRIC_INNER_PRODUCT` - метрика\n",
    "* `\"IVF256,PQ32\"` - [Индексы в faiss](https://github.com/facebookresearch/faiss/wiki/Faiss-indexes)\n",
    "\n",
    "говорим, как строить индекс и как сжимать вектора\n",
    "- `IVF256` - индекс на 256 кластеров, каждая точка приписывается к определённому кластеру. Когда придёт новая точка считается расстояние до 256 точек сначала (до центров кластеров), а потом уже внутри кластера  \n",
    "- `PQ32` - сжатие вектора с потерей качества. 32 - кол-во бит"
   ]
  },
  {
   "cell_type": "markdown",
   "id": "da174c25",
   "metadata": {
    "pycharm": {
     "name": "#%% md\n"
    }
   },
   "source": [
    "Итог:\n",
    "\n",
    "    Результат по метрике - 0.0845\n",
    "\n",
    "    Скорость -  98.55it/s\n",
    "    \n",
    "Качество немного упало, но скорость стала сильно лучше. Однако, можно немного поднять качество, задав параметр \n",
    "\n",
    "    nprobe = 32\n",
    "    \n",
    "который указывает количество кластеров, которые мы идём проверять\n",
    "\n",
    "Итог:\n",
    "\n",
    "    Результат по метрике - 0.0861\n",
    "\n",
    "    Скорость -  94.63it/s"
   ]
  }
 ],
 "metadata": {
  "kernelspec": {
   "display_name": "Python 3 (ipykernel)",
   "language": "python",
   "name": "python3"
  },
  "language_info": {
   "codemirror_mode": {
    "name": "ipython",
    "version": 3
   },
   "file_extension": ".py",
   "mimetype": "text/x-python",
   "name": "python",
   "nbconvert_exporter": "python",
   "pygments_lexer": "ipython3",
   "version": "3.11.7"
  }
 },
 "nbformat": 4,
 "nbformat_minor": 5
}